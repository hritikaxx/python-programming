{
 "cells": [
  {
   "cell_type": "markdown",
   "metadata": {},
   "source": [
    "## For Loop\n",
    "Iterate over list, range (enumarator)"
   ]
  },
  {
   "cell_type": "code",
   "execution_count": 8,
   "metadata": {},
   "outputs": [
    {
     "name": "stdout",
     "output_type": "stream",
     "text": [
      "1\n",
      "2\n",
      "3\n",
      "4\n",
      "5\n"
     ]
    }
   ],
   "source": [
    "numbers = [1,2,3,4,5] # list of int\n",
    "\n",
    "#counter = 0\n",
    "#while counter<len(numbers):\n",
    "#    print(numbers[counter])\n",
    "#    counter+=1\n",
    "\n",
    "for num in numbers:\n",
    "    print(num)\n",
    "\n"
   ]
  },
  {
   "cell_type": "code",
   "execution_count": 11,
   "metadata": {},
   "outputs": [
    {
     "name": "stdout",
     "output_type": "stream",
     "text": [
      "2\n",
      "4\n",
      "10\n",
      "18\n",
      "[2, 4, 10, 18]\n"
     ]
    }
   ],
   "source": [
    "numbers = [1,2,3,4,5,10,15,18]\n",
    "#create new list of even numbers from the given list\n",
    "even_list = []\n",
    "#iterate over list\n",
    "for num in numbers:\n",
    "    if num%2==0:\n",
    "        print(num)\n",
    "        even_list.append(num)\n",
    "print(even_list)\n",
    "\n",
    "#for num in numbers:\n",
    "#    if num%2==0:\n",
    "#        print(num)"
   ]
  },
  {
   "cell_type": "code",
   "execution_count": 10,
   "metadata": {},
   "outputs": [
    {
     "name": "stdout",
     "output_type": "stream",
     "text": [
      "[1, 2, 3, 4, 5, 11, 100]\n"
     ]
    }
   ],
   "source": [
    "numbers = [1,1,2,3,4,5,3,11,100] #list of int\n",
    "#create new list by removing duplicate items from given list\n",
    "unique_number = []\n",
    "for num in numbers:\n",
    "    if num not in unique_number:\n",
    "        unique_number.append(num)\n",
    "print(unique_number)"
   ]
  },
  {
   "cell_type": "markdown",
   "metadata": {},
   "source": [
    "## Range\n",
    "range(start,stop,step)"
   ]
  },
  {
   "cell_type": "code",
   "execution_count": 32,
   "metadata": {},
   "outputs": [
    {
     "name": "stdout",
     "output_type": "stream",
     "text": [
      "1\n",
      "2\n",
      "3\n",
      "4\n",
      "5\n",
      "6\n",
      "7\n",
      "8\n",
      "9\n",
      "10\n",
      "11\n",
      "12\n",
      "13\n",
      "14\n",
      "15\n",
      "16\n",
      "17\n",
      "18\n",
      "19\n",
      "20\n",
      "21\n",
      "22\n",
      "23\n",
      "24\n",
      "25\n",
      "26\n",
      "27\n",
      "28\n",
      "29\n",
      "30\n",
      "31\n",
      "32\n",
      "33\n",
      "34\n",
      "35\n",
      "36\n",
      "37\n",
      "38\n",
      "39\n",
      "40\n",
      "41\n",
      "42\n",
      "43\n",
      "44\n",
      "45\n",
      "46\n",
      "47\n",
      "48\n",
      "49\n",
      "50\n",
      "51\n",
      "52\n",
      "53\n",
      "54\n",
      "55\n",
      "56\n",
      "57\n",
      "58\n",
      "59\n",
      "60\n",
      "61\n",
      "62\n",
      "63\n",
      "64\n",
      "65\n",
      "66\n",
      "67\n",
      "68\n",
      "69\n",
      "70\n",
      "71\n",
      "72\n",
      "73\n",
      "74\n",
      "75\n",
      "76\n",
      "77\n",
      "78\n",
      "79\n",
      "80\n",
      "81\n",
      "82\n",
      "83\n",
      "84\n",
      "85\n",
      "86\n",
      "87\n",
      "88\n",
      "89\n",
      "90\n",
      "91\n",
      "92\n",
      "93\n",
      "94\n",
      "95\n",
      "96\n",
      "97\n",
      "98\n",
      "99\n",
      "100\n"
     ]
    }
   ],
   "source": [
    "range_of_100 = range(1,10)\n",
    "\n",
    "sum = 0\n",
    "for i in range(1,101): #for i = 0;i<10;i++\n",
    "    print(i)\n",
    "    sum+=i\n"
   ]
  },
  {
   "cell_type": "markdown",
   "metadata": {},
   "source": [
    "## inline for loop "
   ]
  },
  {
   "cell_type": "code",
   "execution_count": 29,
   "metadata": {},
   "outputs": [
    {
     "name": "stdout",
     "output_type": "stream",
     "text": [
      "[2, 4, 6, 18]\n",
      "[1, 200, 3, 400, 5, 600, 11, 1800]\n"
     ]
    }
   ],
   "source": [
    "numbers = [1,2,3,4,5,6,11,18]\n",
    "list_of_even_numbers = [num for num in numbers if num%2==0]\n",
    "print(list_of_even_numbers)\n",
    "\n",
    "numbers = [1,2,3,4,5,6,11,18]\n",
    "transformed_list = [(num*100 if num%2==0 else num) for num in numbers]\n",
    "print(transformed_list)"
   ]
  },
  {
   "cell_type": "markdown",
   "metadata": {},
   "source": [
    "## Function\n",
    "syntax:\n",
    "\n",
    "def function_name(parameters):\n",
    "/#block of code\n",
    "/return expression"
   ]
  },
  {
   "cell_type": "code",
   "execution_count": 39,
   "metadata": {},
   "outputs": [
    {
     "name": "stdout",
     "output_type": "stream",
     "text": [
      "55\n",
      "110\n",
      "450\n"
     ]
    }
   ],
   "source": [
    "def add(x,y):\n",
    "    sum = x+y\n",
    "    return sum\n",
    "\n",
    "sum_of_two_numbers = add(x=10,y=45)\n",
    "print(sum_of_two_numbers)\n",
    "print(add(10,100))\n",
    "\n",
    "def product(x,y):\n",
    "    product = x*y\n",
    "    return product\n",
    "print(product_of_two_numbers)"
   ]
  },
  {
   "cell_type": "code",
   "execution_count": 38,
   "metadata": {},
   "outputs": [
    {
     "name": "stdout",
     "output_type": "stream",
     "text": [
      "450\n"
     ]
    }
   ],
   "source": [
    "\n"
   ]
  },
  {
   "cell_type": "code",
   "execution_count": 1,
   "metadata": {},
   "outputs": [
    {
     "name": "stdout",
     "output_type": "stream",
     "text": [
      "My name is Hri\n"
     ]
    }
   ],
   "source": [
    "def display_info():\n",
    "    print(\"My name is Hri\")\n",
    "display_info()"
   ]
  },
  {
   "cell_type": "markdown",
   "metadata": {},
   "source": [
    "## Parameters and Arguments\n"
   ]
  },
  {
   "cell_type": "code",
   "execution_count": 3,
   "metadata": {},
   "outputs": [
    {
     "name": "stdout",
     "output_type": "stream",
     "text": [
      "Hello, Hri!\n",
      "8\n"
     ]
    }
   ],
   "source": [
    "# Default Arguments\n",
    "def greet(name=\"World\"):\n",
    "    print(f\"Hello, {name}!\")\n",
    "\n",
    "greet(\"Hri\")\n",
    "\n",
    "def sum(a=0,b=0):\n",
    "    return a+b\n",
    "\n",
    "print(sum(a=5,b=3))"
   ]
  },
  {
   "cell_type": "code",
   "execution_count": 4,
   "metadata": {},
   "outputs": [
    {
     "name": "stdout",
     "output_type": "stream",
     "text": [
      "1 2\n",
      "(3, 4, 5, 6, 7, 8, 9)\n",
      "None\n"
     ]
    }
   ],
   "source": [
    "def add(a,b,*args):\n",
    "    print(a,b)\n",
    "    print(args)\n",
    "\n",
    "a = add(1,2,3,4,5,6,7,8,9)\n",
    "print(a)"
   ]
  },
  {
   "cell_type": "code",
   "execution_count": 7,
   "metadata": {},
   "outputs": [
    {
     "name": "stdout",
     "output_type": "stream",
     "text": [
      "number is odd\n"
     ]
    }
   ],
   "source": [
    "# Return Statement\n",
    "def is_even_number(number):\n",
    "    if number %2==0:\n",
    "        return 'number is even'\n",
    "    \n",
    "    return 'number is odd'\n",
    "\n",
    "check_number = is_even_number(7)\n",
    "print(check_number)"
   ]
  },
  {
   "cell_type": "code",
   "execution_count": 14,
   "metadata": {},
   "outputs": [
    {
     "name": "stdout",
     "output_type": "stream",
     "text": [
      "3\n",
      "-1\n",
      "2\n",
      "0.5\n",
      "No!!\n",
      "50\n"
     ]
    }
   ],
   "source": [
    "#write a function that accepts three values (arguments) x,y,operation\n",
    "#where x =>int, y-> int, operation -> string (+,-,*,/)\n",
    "#function should return the output based on the operation\n",
    "# i.e. if operation =+ add\n",
    "#operation =- substract and so on\n",
    "\n",
    "def cal(x,y,operation):\n",
    "    if operation == '+':\n",
    "        return x+y\n",
    "    elif operation == '-':\n",
    "        return x-y\n",
    "    elif operation == '*':\n",
    "        return x*y\n",
    "    elif operation == '/':\n",
    "        return x/y\n",
    "    else:\n",
    "        return 'No!!'\n",
    "print(cal(1,2,'+'))\n",
    "print(cal(1,2,'-'))\n",
    "print(cal(1,2,'*'))\n",
    "print(cal(1,2,'/'))\n",
    "print(cal(1,2,' '))\n",
    "\n",
    "def calculator(x:int,y:int,op: str):\n",
    "    if op == '+':\n",
    "        return x+y\n",
    "    elif op == '-':\n",
    "        return x-y\n",
    "    elif op == '*':\n",
    "        return x*y\n",
    "    elif op == '/':\n",
    "        if y==0:\n",
    "            print('Denominator cannot be 0')\n",
    "            return\n",
    "        else:\n",
    "            return x/y\n",
    "    else:\n",
    "        print ('Invalid')\n",
    "    \n",
    "result = calculator(5,10,'*')\n",
    "print(result)\n",
    "   \n",
    "    \n"
   ]
  },
  {
   "cell_type": "markdown",
   "metadata": {},
   "source": [
    "## Lambda Function"
   ]
  },
  {
   "cell_type": "code",
   "execution_count": 15,
   "metadata": {},
   "outputs": [
    {
     "name": "stdout",
     "output_type": "stream",
     "text": [
      "16\n"
     ]
    }
   ],
   "source": [
    "square = lambda x: x ** 2\n",
    "print(square(4)) #output:16"
   ]
  },
  {
   "cell_type": "markdown",
   "metadata": {},
   "source": [
    "## Questions\n",
    "##### 1. Write a function Swap two numbers without using a temporary variable\n",
    "##### 2. Write a function Determine if a string is a palindrome (palindrome is if we reverse it has same value)\n",
    "##### 3. Write a function to Count the number of vowels in a given string\n",
    "##### 4. Write a function Find the common elements between two lists"
   ]
  },
  {
   "cell_type": "code",
   "execution_count": 17,
   "metadata": {},
   "outputs": [
    {
     "name": "stdout",
     "output_type": "stream",
     "text": [
      "6 3\n"
     ]
    },
    {
     "data": {
      "text/plain": [
       "(6, 3)"
      ]
     },
     "execution_count": 17,
     "metadata": {},
     "output_type": "execute_result"
    }
   ],
   "source": [
    "#1\n",
    "def swap_numbers(a,b):\n",
    "    a = a + b\n",
    "    b = a - b\n",
    "    a = a - b\n",
    "    print(a,b)\n",
    "    return(a,b)\n",
    "\n",
    "swap_numbers(3,6)"
   ]
  },
  {
   "cell_type": "code",
   "execution_count": 20,
   "metadata": {},
   "outputs": [
    {
     "data": {
      "text/plain": [
       "True"
      ]
     },
     "execution_count": 20,
     "metadata": {},
     "output_type": "execute_result"
    }
   ],
   "source": [
    "#2\n",
    "input = 'aba'\n",
    "input == input[::-1]\n",
    "\n",
    "def is_palindrome(input):\n",
    "    if input == input[::-1]:\n",
    "        return True\n",
    "    return False\n",
    "\n",
    "is_palindrome('aba')"
   ]
  },
  {
   "cell_type": "code",
   "execution_count": 22,
   "metadata": {},
   "outputs": [
    {
     "name": "stdout",
     "output_type": "stream",
     "text": [
      "4\n"
     ]
    }
   ],
   "source": [
    "#3\n",
    "def count_vowels(sentence):\n",
    "    vowels = 'aeiou'\n",
    "    total_vowels = 0\n",
    "    for char in sentence:\n",
    "        if char in vowels:\n",
    "            total_vowels+=1\n",
    "\n",
    "    return total_vowels\n",
    "\n",
    "total_vowels = count_vowels('good morning')\n",
    "print(total_vowels)\n",
    "\n"
   ]
  },
  {
   "cell_type": "code",
   "execution_count": null,
   "metadata": {},
   "outputs": [],
   "source": []
  }
 ],
 "metadata": {
  "kernelspec": {
   "display_name": "Python 3",
   "language": "python",
   "name": "python3"
  },
  "language_info": {
   "codemirror_mode": {
    "name": "ipython",
    "version": 3
   },
   "file_extension": ".py",
   "mimetype": "text/x-python",
   "name": "python",
   "nbconvert_exporter": "python",
   "pygments_lexer": "ipython3",
   "version": "3.13.0"
  }
 },
 "nbformat": 4,
 "nbformat_minor": 2
}
