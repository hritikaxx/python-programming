{
 "cells": [
  {
   "cell_type": "markdown",
   "metadata": {},
   "source": [
    "# Hritika Singh"
   ]
  },
  {
   "cell_type": "code",
   "execution_count": 3,
   "metadata": {},
   "outputs": [
    {
     "name": "stdout",
     "output_type": "stream",
     "text": [
      "Original array:\n",
      " [1 2 3 4 5 6]\n",
      "--------------\n",
      "Reshaped array:\n",
      " [[1 2 3]\n",
      " [4 5 6]]\n"
     ]
    }
   ],
   "source": [
    "# Reshaping 3x4 array to 2x2x3 array\n",
    "import numpy as np\n",
    "arr = np.array([1,2,3,4,5,6 ])\n",
    "\n",
    "\n",
    "newarr = arr.reshape(2,3)\n",
    "\n",
    "print(\"Original array:\\n\",arr)\n",
    "print(\"--------------\")\n",
    "print(\"Reshaped array:\\n\", newarr)"
   ]
  },
  {
   "cell_type": "markdown",
   "metadata": {},
   "source": [
    "### Flatten Array\n",
    "- Flatten method flattens array to one dimension and returns copy of collapsed array"
   ]
  },
  {
   "cell_type": "code",
   "execution_count": 4,
   "metadata": {},
   "outputs": [
    {
     "name": "stdout",
     "output_type": "stream",
     "text": [
      "Original array:\n",
      " [[1 2 3]\n",
      " [4 5 6]]\n",
      "Flattened array:\n",
      " [1 2 3 4 5 6]\n"
     ]
    }
   ],
   "source": [
    "arr = np.array([[1,2,3], [4,5,6]])\n",
    "flat_arr = arr.flatten()\n",
    "\n",
    "print(\"Original array:\\n\", arr)\n",
    "print(\"Flattened array:\\n\", flat_arr)"
   ]
  },
  {
   "cell_type": "markdown",
   "metadata": {},
   "source": [
    "## NumPy Array Indexing and Slicing\n",
    "## Basic Indexing\n",
    " Indexing allows us to access the individual elements or subsets of data"
   ]
  },
  {
   "cell_type": "code",
   "execution_count": 5,
   "metadata": {},
   "outputs": [
    {
     "name": "stdout",
     "output_type": "stream",
     "text": [
      "(6,)\n",
      "1\n",
      "6\n",
      "4\n",
      "print dimension of array\n",
      "2\n",
      "print shape of the array\n",
      "(3, 3)\n",
      "print total number of items\n",
      "9\n",
      "first row first element\n",
      "1\n",
      "last row last element\n",
      "8\n",
      "second row third element\n",
      "6\n",
      "third row second element\n",
      "7\n"
     ]
    }
   ],
   "source": [
    "# 1D Array Indexing\n",
    "arr = np.array([1,2,3,4,5,6])\n",
    "print(arr.shape)\n",
    "print(arr[0]) # first element\n",
    "print(arr[-1]) # last element\n",
    "print(arr[3]) #fourth element\n",
    "\n",
    "# 2D Array Inedxing \n",
    "num_2d_array = np.array([\n",
    "                        [1,2,3],\n",
    "                        [4,5,6],\n",
    "                        [6,7,8]\n",
    "])\n",
    "print(\"print dimension of array\")\n",
    "print(num_2d_array.ndim) \n",
    "print(\"print shape of the array\")\n",
    "print(num_2d_array.shape)\n",
    "print(\"print total number of items\")\n",
    "print(num_2d_array.size)\n",
    "\n",
    "print(\"first row first element\")\n",
    "print(num_2d_array[0,0])\n",
    "print(\"last row last element\")\n",
    "print(num_2d_array[-1,-1])\n",
    "print(\"second row third element\")\n",
    "print(num_2d_array[1,2])\n",
    "print(\"third row second element\")\n",
    "print(num_2d_array[2,1])\n",
    "\n"
   ]
  },
  {
   "cell_type": "markdown",
   "metadata": {},
   "source": [
    "## Slicing in NumPy\n",
    "In NumPy we can access the portion of an array using the slice operator"
   ]
  },
  {
   "cell_type": "markdown",
   "metadata": {},
   "source": [
    "1-D Array Slicing \n",
    "syntax: array[start:stop:step]\n",
    "- start: Index of the first element to be included in slice\n",
    "- stop: index of the last element (exclusive)\n",
    "- step: step size between each elemnt in the slice\n"
   ]
  },
  {
   "cell_type": "code",
   "execution_count": 6,
   "metadata": {},
   "outputs": [
    {
     "name": "stdout",
     "output_type": "stream",
     "text": [
      "[3 4 5 6]\n",
      "[1 3 5 7]\n",
      "[ 5  6  7  8 10 11]\n",
      "[1 2 3 4 5]\n",
      "[11  8  6  4  2]\n",
      "[100 100 100 100 100   6   7   8  10  11]\n"
     ]
    }
   ],
   "source": [
    "arr = np.array([1,2,3,4,5,6,7,8,10,11])\n",
    "\n",
    "# slice array from index 2-6 (6 exclusive)\n",
    "print(arr[2:6])\n",
    "\n",
    "# slice array from 0 to 8 with a step size of 2\n",
    "print(arr[0:8:2])\n",
    "\n",
    "# slice array from index 4 to last element\n",
    "print(arr[4:])\n",
    "\n",
    "\n",
    "# slice array from start to 5th index(5th index excluded)\n",
    "print(arr[:5])\n",
    "\n",
    "#negative index\n",
    "print(arr[-1::-2]) # slice every second element from end to start\n",
    "\n",
    "\n",
    "# we can also modify the array with slicing \n",
    "arr[:5] = 100 # replace items from 0-5 with 100\n",
    "print(arr)\n"
   ]
  },
  {
   "cell_type": "markdown",
   "metadata": {},
   "source": [
    "## 2-D Array Slicing\n",
    "syntax: array[row_start:row_stop:row_step, col_start:col_stop:col_step]"
   ]
  },
  {
   "cell_type": "code",
   "execution_count": 7,
   "metadata": {},
   "outputs": [
    {
     "name": "stdout",
     "output_type": "stream",
     "text": [
      "2\n",
      "[[1 2 3]]\n",
      "[[1 2]\n",
      " [4 5]]\n"
     ]
    }
   ],
   "source": [
    "array_2d = np.array([\n",
    "                [1,2,3],\n",
    "                [4,5,6],\n",
    "                [7,8,9]\n",
    "])\n",
    "print(array_2d.ndim)\n",
    "\n",
    "# slice first row\n",
    "print(array_2d[0:1])\n",
    "\n",
    "#slice array from first two rows and first tow columns\n",
    "\n",
    "print(array_2d[0:2,0:2])"
   ]
  },
  {
   "cell_type": "markdown",
   "metadata": {},
   "source": [
    "## Boolean Array Indexing\n",
    "Boolean array indexing allows us to select elemts from an array based on conditions. This technique is helpful when we need to filter elemts based on certain condtion. "
   ]
  },
  {
   "cell_type": "code",
   "execution_count": 8,
   "metadata": {},
   "outputs": [
    {
     "name": "stdout",
     "output_type": "stream",
     "text": [
      "[20 25 30]\n",
      "[10 20 30]\n",
      "[ 5 10 15 99 99 99]\n",
      "[5 6 7 8 9]\n",
      "[[1 2 3]\n",
      " [4 0 0]\n",
      " [0 0 0]]\n"
     ]
    }
   ],
   "source": [
    "#creating an array\n",
    "arr = np.array([5,10,15,20,25,30])\n",
    "\n",
    "#slect elemtns greater than 15\n",
    "print(arr[arr>15]) #output: [20 25 30]\n",
    "\n",
    "#select elements that are even\n",
    "print(arr[arr % 2 == 0])\n",
    "\n",
    "#modifying elements that satisfy a condition\n",
    "arr[arr > 15] = 99\n",
    "print(arr)\n",
    "\n",
    "arr2d = np.array([[1,2,3], [4,5,6], [7,8,9]])\n",
    "\n",
    "#extract elements greater than 4\n",
    "print(arr2d[arr2d > 4])\n",
    "\n",
    "# Setting elements greater than 4 to zero\n",
    "arr2d[arr2d > 4] = 0\n",
    "print(arr2d)"
   ]
  },
  {
   "cell_type": "markdown",
   "metadata": {},
   "source": [
    "## NumPy Operation\n",
    "• NumPy Arithmetic Array Operations\n",
    "\n",
    "• NumPy Array Functions\n",
    "\n",
    "• NumPy Comparison/Logical Operations\n",
    "\n",
    "• NumPy Math Functions\n",
    "\n",
    "• NumPy Constants\n",
    "\n",
    "• NumPy Statistical Functions\n",
    "\n",
    "## NumPy Arthimetic Operation \n",
    "- add()\n",
    "- subract()\n",
    "- multipy()\n",
    "- divide()\n",
    "- power()\n",
    "- mod()\n"
   ]
  },
  {
   "cell_type": "code",
   "execution_count": 9,
   "metadata": {},
   "outputs": [
    {
     "name": "stdout",
     "output_type": "stream",
     "text": [
      "[ 3  6  9 12]\n",
      "[-1  0  1  0]\n",
      "[ 2  9 20 36]\n",
      "[0.5  1.   1.25 1.  ]\n",
      "[ 1  9 25 36]\n",
      "[1 0 1 0]\n"
     ]
    }
   ],
   "source": [
    "first_array = ([1, 3, 5, 6])\n",
    "second_array = np.array([2,3,4,6])\n",
    "\n",
    "print(np.add(first_array, second_array))\n",
    "print(np.subtract(first_array, second_array))\n",
    "print(np.multiply(first_array, second_array))\n",
    "print(np.divide(first_array, second_array))\n",
    "print(np.power(first_array, 2))\n",
    "print(np.mod(first_array, second_array))"
   ]
  },
  {
   "cell_type": "markdown",
   "metadata": {},
   "source": [
    "## NumPy Broadcasting\n",
    "- Broadcasting in NumPy allows it to perform arthimetic operations on array with different shapes"
   ]
  },
  {
   "cell_type": "code",
   "execution_count": 10,
   "metadata": {},
   "outputs": [
    {
     "name": "stdout",
     "output_type": "stream",
     "text": [
      "[ 4  8 12 16]\n"
     ]
    }
   ],
   "source": [
    "arr1 = np.array([1,2,3,4])\n",
    "arr2 = np.array(4)\n",
    "result = arr1 * arr2\n",
    "print(result)"
   ]
  },
  {
   "cell_type": "markdown",
   "metadata": {},
   "source": [
    "# NumPy Array Functions\n",
    "= Outline •••\n",
    "\n",
    "NumPy has various built-in functions for various purposes\n",
    "\n",
    "• Array Creation Functions: np. array(), np. zeros(), p.ones ()\n",
    "\n",
    "• Manipulation Functions: np.reshape(), np. transpose()np. empty() etc\n",
    "\n",
    "• Mathematical Functions: np. add(), np. subtract(), np. sqrt(), np. power()\n",
    "\n",
    "• Statistical Functions: np. median(), np.mean (), np.std(), np. var()"
   ]
  },
  {
   "cell_type": "code",
   "execution_count": 11,
   "metadata": {},
   "outputs": [
    {
     "name": "stdout",
     "output_type": "stream",
     "text": [
      "11.666666666666666\n",
      "3.0\n",
      "20.295045919851695\n",
      "411.8888888888889\n"
     ]
    }
   ],
   "source": [
    "data = np.array([1,3,4,57,2,3])\n",
    "print(np.mean(data))\n",
    "print(np.median(data))\n",
    "print(np.std(data))\n",
    "print(np.var(data))"
   ]
  },
  {
   "cell_type": "markdown",
   "metadata": {},
   "source": [
    "## Array Manipulation Functions "
   ]
  },
  {
   "cell_type": "code",
   "execution_count": 12,
   "metadata": {},
   "outputs": [
    {
     "name": "stdout",
     "output_type": "stream",
     "text": [
      "[[1 2 3]\n",
      " [4 5 6]\n",
      " [7 8 9]]\n",
      "[[1 4 7]\n",
      " [2 5 8]\n",
      " [3 6 9]]\n"
     ]
    }
   ],
   "source": [
    "numbers = np.array([1,2,3,4,5,6,7,8,9])\n",
    "\n",
    "#reshape the 1D array into a 3D array\n",
    "reshaped_array = np.reshape(numbers, (3,3))\n",
    "print(reshaped_array)\n",
    "\n",
    "#transpose\n",
    "transposed_array = np.transpose(reshaped_array)\n",
    "print(transposed_array)"
   ]
  },
  {
   "cell_type": "markdown",
   "metadata": {},
   "source": [
    "# NumPy Matrix Operations\n",
    "- Matrix Multiplication `np. matmul()`\n",
    "- Dot Product `np.dot ()`\n",
    "- Cross Product `np.cross()`\n",
    "- Transpose `np.transpose`\n",
    "- Inverse `np.linalg inverse()`\n",
    "- Determinant `linalg.det()` linalg=>Linear Algebra\n",
    "- Norm `np.linalg.norm()`\n",
    "- Trace `np.linalg.trace()`"
   ]
  },
  {
   "cell_type": "markdown",
   "metadata": {},
   "source": [
    "first_array = ([1,2,3])\n",
    "second_array = ([4,5,6])\n",
    "print(np.matmul(first_array, second_array)) "
   ]
  },
  {
   "cell_type": "code",
   "execution_count": 13,
   "metadata": {},
   "outputs": [
    {
     "name": "stdout",
     "output_type": "stream",
     "text": [
      "[[19 28]\n",
      " [43 64]]\n"
     ]
    },
    {
     "data": {
      "text/plain": [
       "32"
      ]
     },
     "execution_count": 13,
     "metadata": {},
     "output_type": "execute_result"
    }
   ],
   "source": [
    "\n",
    "mat_1 = [\n",
    "            [1,2,3],\n",
    "            [4,5,6]\n",
    "        ] # 2,3\n",
    "mat_2 = [\n",
    "            [1,2],\n",
    "            [3,4],\n",
    "            [4,6]\n",
    "        ]\n",
    "\n",
    "result = np.matmul(mat_1,mat_2)\n",
    "print(result)\n",
    "\n",
    "vec1 = [1,2,3]\n",
    "vec2 = [4,5,6]\n",
    "dot_prod = np.dot(vec1,vec2)\n",
    "dot_prod\n"
   ]
  },
  {
   "cell_type": "markdown",
   "metadata": {},
   "source": [
    "### NumPy Mathematical and Statistical Functions"
   ]
  },
  {
   "cell_type": "code",
   "execution_count": 14,
   "metadata": {},
   "outputs": [
    {
     "name": "stdout",
     "output_type": "stream",
     "text": [
      "Mathematical Functions\n",
      "[1. 2. 3. 4.]\n",
      "Statistical Functions\n",
      "Mean: 61.3\n",
      "Median: 60.5\n",
      "Minimum marks: 10\n",
      "Maximum marks: 100\n"
     ]
    }
   ],
   "source": [
    "import numpy as np\n",
    "numbers = [1,2,3,4]\n",
    "print(\"Mathematical Functions\")\n",
    "sqrt_numbers = np.sqrt(numbers)\n",
    "square_numbers = np.square(sqrt_numbers)\n",
    "print(square_numbers)\n",
    "\n",
    "\n",
    "print(\"Statistical Functions\")\n",
    "\n",
    "students_marks = np.array([30,50,67,10,100,99,98,71,54,34])\n",
    "mean_marks = np.mean(students_marks)\n",
    "print(\"Mean:\",mean_marks)\n",
    "\n",
    "# compute the median of marks\n",
    "median_marks = np.median(students_marks)\n",
    "print(\"Median:\",median_marks)\n",
    "\n",
    "# find the minimum and maximum marks\n",
    "min_marks = np.min(students_marks)\n",
    "print(\"Minimum marks:\", min_marks)\n",
    "\n",
    "max_marks = np.max(students_marks)\n",
    "print(\"Maximum marks:\", max_marks)"
   ]
  },
  {
   "cell_type": "markdown",
   "metadata": {},
   "source": [
    "# Misc. Mathematical Functional\n",
    "- Trigonometric : sine(),cos(),tan(),cot(),sec(),cosec(), tangent()\n",
    "- Hyperbolic: sineh(),cosh(),tanh() etc\n",
    "- Logarithmic: log(), exp(), log10()\n",
    "- round(), floor(),ceil(), absolute(),"
   ]
  },
  {
   "cell_type": "code",
   "execution_count": 15,
   "metadata": {},
   "outputs": [
    {
     "data": {
      "image/png": "[encoded data removed]",
      "text/plain": [
       "<Figure size 1000x500 with 1 Axes>"
      ]
     },
     "metadata": {},
     "output_type": "display_data"
    }
   ],
   "source": [
    "import numpy as np\n",
    "import matplotlib.pyplot as plt\n",
    "\n",
    "# Generate x values\n",
    "x = np.linspace(-2*np.pi, 2 * np.pi, 100)\n",
    "\n",
    "# Calculate y values \n",
    "y_sin = np.sin(x)\n",
    "\n",
    "# Create the plot\n",
    "plt.figure(figsize=(10, 5))\n",
    "\n",
    "# Plot the sine curve and its opposite phase\n",
    "plt.plot(x, y_sin, label='Sine Curve', color='black')\n",
    "\n",
    "plt.xlabel('x values')\n",
    "plt.ylabel('sin(x)')\n",
    "plt.title('Sine Curve and Opposite Phase Sine Curve')\n",
    "plt.legend()\n",
    "plt.grid(True, which='both', axis='both')\n",
    "plt.show()"
   ]
  },
  {
   "cell_type": "markdown",
   "metadata": {},
   "source": [
    "#### Find out the similarity between following two sentences using cosine similarity\n",
    "- Sky is Blue\n",
    "- Ocean is Blue\n",
    "\n",
    "#### Use TD-IDF Algorithm to Vectorize the sentences\n",
    "TF (t) = total number of occurence of term t in sentence (doc)/ total length of words on sentence (doc)\n",
    "\n",
    "IDF(t) = log (total sentence (doc) length) / no of documents contains term t\n",
    "\n",
    "tf-idf score = tf *idf"
   ]
  },
  {
   "cell_type": "code",
   "execution_count": 16,
   "metadata": {},
   "outputs": [
    {
     "data": {
      "text/plain": [
       "0.8096622624647145"
      ]
     },
     "execution_count": 16,
     "metadata": {},
     "output_type": "execute_result"
    }
   ],
   "source": [
    "import numpy as np\n",
    "sentence1 = 'I am a star'\n",
    "sentence2 = 'Star is in sky'\n",
    "sentence1 = sentence1.lower()\n",
    "sentence2 = sentence2.lower()\n",
    "def tf_idf_vectorizer(word,sentence):\n",
    "    tf = sentence.count(word)/len(sentence.split()) \n",
    "    total_doc_size = 2\n",
    "    idf = np.log1p(total_doc_size / 1 if word in sentence1 else 0 + 1 if word in sentence2 else 0)\n",
    "    return tf*idf\n",
    "\n",
    "\n",
    "vec1 = [tf_idf_vectorizer(word,sentence1) for word in sentence1.split()]\n",
    "vec2 = [tf_idf_vectorizer(word,sentence2) for word in sentence2.split()]\n",
    "\n",
    "similarity = np.dot(vec1, vec2) / (np.linalg.norm(vec1) * np.linalg.norm(vec2))\n",
    "similarity\n",
    "\n",
    "\n"
   ]
  },
  {
   "cell_type": "markdown",
   "metadata": {},
   "source": [
    "## Simple Linear Regression"
   ]
  },
  {
   "cell_type": "code",
   "execution_count": 23,
   "metadata": {},
   "outputs": [
    {
     "data": {
      "image/png": "[encoded data removed]",
      "text/plain": [
       "<Figure size 500x300 with 1 Axes>"
      ]
     },
     "metadata": {},
     "output_type": "display_data"
    }
   ],
   "source": [
    "import pandas as pd\n",
    "import numpy as np\n",
    "import matplotlib.pyplot as plt\n",
    "#from the given data, predict sales when price is 20, using simple linear regression\n",
    "sales_data = pd.DataFrame({\n",
    "    'price':[10,12,13,12,16,15],\n",
    "    'sales': [40,38,43,45,37,43]\n",
    "})\n",
    "plt.figure(figsize=(5,3))\n",
    "plt.scatter(\n",
    "    sales_data['price'],\n",
    "    sales_data['sales'],\n",
    "    color='pink',\n",
    "    edgecolor='black'\n",
    ")\n",
    "#Fit a linear regression model to the data\n",
    "x = sales_data['price']\n",
    "y = sales_data['sales']\n",
    "m,c = np.polyfit(x,y,1)\n",
    "\n",
    "# Plot the trend line\n",
    "plt.plot(x, m * x + c, color = 'red',\n",
    "         linewidth=1,\n",
    "         )\n",
    "plt.annotate('y= {:.2f}x + {:.2f}'.format(m,c), xy=(0.1,0.9),\n",
    "             xycoords='axes fraction',\n",
    "             fontsize=12, color='red')\n",
    "\n",
    "plt.xticks(rotation=45)\n",
    "plt.title('Price vs Sales')\n",
    "plt.xlabel('Price')\n",
    "plt.ylabel('Sales')\n",
    "plt.grid(True)\n",
    "plt.show()"
   ]
  },
  {
   "cell_type": "markdown",
   "metadata": {},
   "source": [
    "### Applying the statistical approach to calculate coefficients 'a'(slope) and 'b'(intercept)\n",
    "- Using the formulas:\n",
    "- ∑y = a*n + b * ∑x\n",
    "- ∑xy = a * ∑x +b * ∑x\n",
    "- ∑y = a * ∑x + b * ∑x^2\n",
    "\n",
    "### Direct Formula\n",
    "- $m = \\frac{n \\sum(XY) - \\sum X \\sum Y}{n \\sum X^2 - (\\sum X)^2}$\n",
    "- $c = \\frac{\\sum Y - m \\sum X}{n}$"
   ]
  },
  {
   "cell_type": "code",
   "execution_count": 24,
   "metadata": {},
   "outputs": [
    {
     "name": "stdout",
     "output_type": "stream",
     "text": [
      "-0.25 44.25\n"
     ]
    },
    {
     "data": {
      "text/plain": [
       "39.25"
      ]
     },
     "execution_count": 24,
     "metadata": {},
     "output_type": "execute_result"
    }
   ],
   "source": [
    "X = sales_data['price']\n",
    "Y = sales_data['sales']\n",
    "n = len(X)\n",
    "\n",
    "sum_X = np.sum(X)\n",
    "sum_Y = np.sum(Y)\n",
    "sum_XY = np.sum(X * Y)\n",
    "sum_X2 = np.sum(X**2)\n",
    "m = (n * sum_XY - (sum_X * sum_Y) ) / ( (n * sum_X2) - (sum_X**2) )\n",
    "c = (sum_Y - ( m * sum_X)) / n\n",
    "\n",
    "print(m,c)\n",
    "predicted_sales_stat = m * 20 + c\n",
    "predicted_sales_stat"
   ]
  },
  {
   "cell_type": "markdown",
   "metadata": {},
   "source": [
    "### Load data"
   ]
  },
  {
   "cell_type": "code",
   "execution_count": 25,
   "metadata": {},
   "outputs": [
    {
     "data": {
      "text/html": [
       "<div>\n",
       "<style scoped>\n",
       "    .dataframe tbody tr th:only-of-type {\n",
       "        vertical-align: middle;\n",
       "    }\n",
       "\n",
       "    .dataframe tbody tr th {\n",
       "        vertical-align: top;\n",
       "    }\n",
       "\n",
       "    .dataframe thead th {\n",
       "        text-align: right;\n",
       "    }\n",
       "</style>\n",
       "<table border=\"1\" class=\"dataframe\">\n",
       "  <thead>\n",
       "    <tr style=\"text-align: right;\">\n",
       "      <th></th>\n",
       "      <th>TV</th>\n",
       "      <th>Radio</th>\n",
       "      <th>Newspaper</th>\n",
       "      <th>Sales</th>\n",
       "    </tr>\n",
       "  </thead>\n",
       "  <tbody>\n",
       "    <tr>\n",
       "      <th>0</th>\n",
       "      <td>230.1</td>\n",
       "      <td>37.8</td>\n",
       "      <td>69.2</td>\n",
       "      <td>22.1</td>\n",
       "    </tr>\n",
       "    <tr>\n",
       "      <th>1</th>\n",
       "      <td>44.5</td>\n",
       "      <td>39.3</td>\n",
       "      <td>45.1</td>\n",
       "      <td>10.4</td>\n",
       "    </tr>\n",
       "    <tr>\n",
       "      <th>2</th>\n",
       "      <td>17.2</td>\n",
       "      <td>45.9</td>\n",
       "      <td>69.3</td>\n",
       "      <td>12.0</td>\n",
       "    </tr>\n",
       "    <tr>\n",
       "      <th>3</th>\n",
       "      <td>151.5</td>\n",
       "      <td>41.3</td>\n",
       "      <td>58.5</td>\n",
       "      <td>16.5</td>\n",
       "    </tr>\n",
       "    <tr>\n",
       "      <th>4</th>\n",
       "      <td>180.8</td>\n",
       "      <td>10.8</td>\n",
       "      <td>58.4</td>\n",
       "      <td>17.9</td>\n",
       "    </tr>\n",
       "  </tbody>\n",
       "</table>\n",
       "</div>"
      ],
      "text/plain": [
       "      TV  Radio  Newspaper  Sales\n",
       "0  230.1   37.8       69.2   22.1\n",
       "1   44.5   39.3       45.1   10.4\n",
       "2   17.2   45.9       69.3   12.0\n",
       "3  151.5   41.3       58.5   16.5\n",
       "4  180.8   10.8       58.4   17.9"
      ]
     },
     "execution_count": 25,
     "metadata": {},
     "output_type": "execute_result"
    }
   ],
   "source": [
    "import pandas as pd\n",
    "marketing_data = pd.read_csv('./data/marketing-sales.csv')\n",
    "marketing_data.head()"
   ]
  },
  {
   "cell_type": "markdown",
   "metadata": {},
   "source": [
    "### Data cleaning and Pre-processing\n",
    "- Fix data types\n",
    "- Normalization (if required)\n",
    "- Handle missing data\n",
    "- Perform data transformation/filtering (if required)"
   ]
  },
  {
   "cell_type": "code",
   "execution_count": 26,
   "metadata": {},
   "outputs": [],
   "source": [
    "marketing_data = marketing_data.fillna(marketing_data.mean())"
   ]
  },
  {
   "cell_type": "markdown",
   "metadata": {},
   "source": [
    "### Exploratory Data Analysis"
   ]
  },
  {
   "cell_type": "code",
   "execution_count": 28,
   "metadata": {},
   "outputs": [
    {
     "data": {
      "text/plain": [
       "<Figure size 1000x500 with 0 Axes>"
      ]
     },
     "metadata": {},
     "output_type": "display_data"
    },
    {
     "data": {
      "image/png": "[encoded data removed]",
      "text/plain": [
       "<Figure size 1200x400 with 3 Axes>"
      ]
     },
     "metadata": {},
     "output_type": "display_data"
    },
    {
     "data": {
      "image/png": "[encoded data removed]",
      "text/plain": [
       "<Figure size 1000x500 with 2 Axes>"
      ]
     },
     "metadata": {},
     "output_type": "display_data"
    }
   ],
   "source": [
    "import matplotlib.pyplot as plt\n",
    "import seaborn as sns\n",
    "\n",
    "# scattered plot between TV-Sales, Newspaper-Sales, Radio-Sales\n",
    "plt.figure(figsize=(10,5))\n",
    "sns.pairplot(marketing_data, x_vars=['TV', 'Newspaper', 'Radio'], y_vars='Sales', height=4, aspect=1, kind='scatter')\n",
    "plt.show()\n",
    "\n",
    "# Hitmap to find out the correlation between variables\n",
    "plt.figure(figsize=(10,5))\n",
    "sns.heatmap(marketing_data.corr(), cmap=\"Reds\", annot = True)\n",
    "plt.show()"
   ]
  },
  {
   "cell_type": "markdown",
   "metadata": {},
   "source": [
    "### Build Multiple Linear Regression Model\n",
    "- TV, Radio, Newspaper are features (x1, x2, x3)\n",
    "- Sales is label (y)\n",
    "\n",
    "Equation\n",
    "$y = \\beta_0 +\\beta_1 x_1 + \\beta_2 x_2 + \\cdots + \\beta_n x_n + \\epsilon$"
   ]
  },
  {
   "cell_type": "markdown",
   "metadata": {},
   "source": [
    "#### Prepare Train-test dataset"
   ]
  },
  {
   "cell_type": "code",
   "execution_count": 33,
   "metadata": {},
   "outputs": [],
   "source": [
    "from sklearn.model_selection import train_test_split\n",
    "#define features (x) and target (y)\n",
    "X = marketing_data[['TV', 'Radio', 'Newspaper']]\n",
    "y = marketing_data['Sales']\n",
    "\n",
    "#split the data into training and testing data\n",
    "X_train, X_test, y_train, y_test = train_test_split(X,y,test_size=0.2,random_state=42)\n"
   ]
  },
  {
   "cell_type": "markdown",
   "metadata": {},
   "source": [
    "### Build Model"
   ]
  },
  {
   "cell_type": "code",
   "execution_count": 35,
   "metadata": {},
   "outputs": [
    {
     "name": "stdout",
     "output_type": "stream",
     "text": [
      "Coefficients: [0.05450927 0.10094536 0.00433665]\n",
      "Intercept: 4.714126402214131\n"
     ]
    }
   ],
   "source": [
    "from sklearn.linear_model import LinearRegression\n",
    "\n",
    "#initialize the model\n",
    "sales_model = LinearRegression()\n",
    "# fit data to the model\n",
    "sales_model.fit(X_train, y_train)\n",
    "\n",
    "# print the coefficients\n",
    "print(\"Coefficients:\", sales_model.coef_)\n",
    "print(\"Intercept:\", sales_model.intercept_)"
   ]
  },
  {
   "cell_type": "markdown",
   "metadata": {},
   "source": [
    "### Evaluate Model"
   ]
  },
  {
   "cell_type": "code",
   "execution_count": 36,
   "metadata": {},
   "outputs": [
    {
     "name": "stdout",
     "output_type": "stream",
     "text": [
      "Mean Squared Error: 2.9077569102710905\n"
     ]
    }
   ],
   "source": [
    "from sklearn.metrics import mean_squared_error\n",
    "# Make predictions\n",
    "y_pred = sales_model.predict(X_test)\n",
    "\n",
    "# Evaluate the model\n",
    "mse = mean_squared_error(y_test,y_pred)\n",
    "print(\"Mean Squared Error:\", mse)\n"
   ]
  },
  {
   "cell_type": "code",
   "execution_count": null,
   "metadata": {},
   "outputs": [],
   "source": []
  }
 ],
 "metadata": {
  "kernelspec": {
   "display_name": "base",
   "language": "python",
   "name": "python3"
  },
  "language_info": {
   "codemirror_mode": {
    "name": "ipython",
    "version": 3
   },
   "file_extension": ".py",
   "mimetype": "text/x-python",
   "name": "python",
   "nbconvert_exporter": "python",
   "pygments_lexer": "ipython3",
   "version": "3.12.4"
  }
 },
 "nbformat": 4,
 "nbformat_minor": 2
}
