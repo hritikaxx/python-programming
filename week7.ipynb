{
 "cells": [
  {
   "cell_type": "markdown",
   "metadata": {},
   "source": [
    "### Memoization/dynamic programming example"
   ]
  },
  {
   "cell_type": "code",
   "execution_count": 6,
   "metadata": {},
   "outputs": [
    {
     "name": "stdout",
     "output_type": "stream",
     "text": [
      "55\n",
      "354224848179261915075\n"
     ]
    }
   ],
   "source": [
    "#define a Fibanacci Function\n",
    "def fib_recursive(n): #time complexity(0(2^n))\n",
    "    if n <= 1:\n",
    "        return n\n",
    "    return fib_recursive(n-1) + fib_recursive(n-2)\n",
    "\n",
    "fib_10= fib_recursive(10)\n",
    "print(fib_10)\n",
    "\n",
    "#initialize the memoization dictionary with base cases\n",
    "memo = {0: 0, 1: 1}\n",
    "def fib_memo(n): #time complexity 0(n)\n",
    "    if n in memo: \n",
    "        return memo[n]  \n",
    "\n",
    "    #recursive case: calculate Fibonacci number for n\n",
    "    fib_number = fib_memo(n-1) + fib_memo(n-2)\n",
    "\n",
    "    #store the result in the memo dictionary to avoid redundant calc\n",
    "    memo[n] = fib_number\n",
    "\n",
    "    return fib_number\n",
    "\n",
    "print(fib_memo(100))"
   ]
  },
  {
   "cell_type": "code",
   "execution_count": 7,
   "metadata": {},
   "outputs": [
    {
     "name": "stdout",
     "output_type": "stream",
     "text": [
      "[1, 2, 4, 10]\n"
     ]
    }
   ],
   "source": [
    "# number = [1,1,2,2,4,10,10]\n",
    "numbers = [1, 1, 2, 2, 4, 10]\n",
    "unique_numbers = []\n",
    "for num in numbers:\n",
    "    if num not in unique_numbers:\n",
    "        unique_numbers.append(num)\n",
    "print(unique_numbers)"
   ]
  },
  {
   "cell_type": "code",
   "execution_count": null,
   "metadata": {},
   "outputs": [],
   "source": [
    "#numbers = [1,1,10,100]\n",
    "#def a function that accepts a list & element & if element exists in list return True else False\n",
    "\n"
   ]
  },
  {
   "cell_type": "markdown",
   "metadata": {},
   "source": [
    "### Use Dict/Set (Hashmaps) to optimize the search"
   ]
  },
  {
   "cell_type": "code",
   "execution_count": null,
   "metadata": {},
   "outputs": [],
   "source": [
    "#Linear Search\n",
    "def linear_search(arr, target):\n",
    "    for i in range(len(arr)):"
   ]
  },
  {
   "cell_type": "markdown",
   "metadata": {},
   "source": []
  },
  {
   "cell_type": "markdown",
   "metadata": {},
   "source": []
  },
  {
   "cell_type": "markdown",
   "metadata": {},
   "source": []
  }
 ],
 "metadata": {
  "kernelspec": {
   "display_name": "base",
   "language": "python",
   "name": "python3"
  },
  "language_info": {
   "codemirror_mode": {
    "name": "ipython",
    "version": 3
   },
   "file_extension": ".py",
   "mimetype": "text/x-python",
   "name": "python",
   "nbconvert_exporter": "python",
   "pygments_lexer": "ipython3",
   "version": "3.12.4"
  }
 },
 "nbformat": 4,
 "nbformat_minor": 2
}
